{
 "cells": [
  {
   "cell_type": "markdown",
   "metadata": {
    "id": "XqFb2ezNvikD"
   },
   "source": [
    "# Soccer Analytics Handbook Code Samples\n",
    "---\n",
    "\n",
    "Source: [Soccer Analytics Handbook](https://github.com/devinpleuler/analytics-handbook)"
   ]
  },
  {
   "cell_type": "code",
   "execution_count": null,
   "metadata": {
    "id": "kR6jy-bMw3Ih"
   },
   "outputs": [],
   "source": [
    "matches = sb.matches(competition_id=43, season_id=106)"
   ]
  },
  {
   "cell_type": "markdown",
   "metadata": {
    "id": "VmS_FA17w6I_"
   },
   "source": [
    "Call the `matches` method from the `sb` module. The method queries the Statsbomb API to access all of the matches that have a certain competition and season ID. The arguments provided here will access all matches in the 2022 FIFA World Cup.\n",
    "\n",
    "> Notice: you might see a `NoAuthWarning`. This is because you're acessing the StatsBomb open data. If you have a subscription, you can actually pass credentials to these module functions and access your own data. You can quiet these warnings in python if they are annoying."
   ]
  },
  {
   "cell_type": "code",
   "execution_count": null,
   "metadata": {
    "colab": {
     "base_uri": "https://localhost:8080/",
     "height": 341
    },
    "id": "wqNsLNGOxCpR",
    "outputId": "7ebb208c-c1ff-4b52-b2de-6cde15ab3710"
   },
   "outputs": [],
   "source": [
    "matches.head(3)"
   ]
  },
  {
   "cell_type": "markdown",
   "metadata": {
    "id": "dVTYV4xAxGlz"
   },
   "source": [
    "The matches method returns a Pandas DataFrame object, which you can visualize in various ways including calling the `head` method which takes an argument of the total number of rows that you would like to see."
   ]
  },
  {
   "cell_type": "code",
   "execution_count": null,
   "metadata": {
    "id": "bLu7_cmGxIV7"
   },
   "outputs": [],
   "source": [
    "final = matches[matches['competition_stage'] == \"Final\"].iloc[0]"
   ]
  },
  {
   "cell_type": "markdown",
   "metadata": {
    "id": "hLReDc7hxMli"
   },
   "source": [
    "We filter this DataFrame to return a new DataFrame that only contains rows where the value of the `competition_stage` column is equal to `Final`. \n",
    "\n",
    "The expression `matches['competition_stage'] == \"Final\"` creates a boolean mask with `True` values where the condition is met. This mask is then used to index the original DataFrame resulting in a new DataFrame that contains only the rows where the condition is met.\n",
    "\n",
    "Of course, there is only one World Cup Final match, so we grab the 0th row using the `.iloc` accessor and assign it to a new variable named `final`. At this point, `final` is a Pandas Series object."
   ]
  },
  {
   "cell_type": "code",
   "execution_count": null,
   "metadata": {
    "id": "gsGrwn2exNzt"
   },
   "outputs": [],
   "source": [
    "match_id = final.loc['match_id']"
   ]
  },
  {
   "cell_type": "markdown",
   "metadata": {
    "id": "uL11qU08xRK8"
   },
   "source": [
    "We select the `match_id` column from the `final` object usng the `.loc` accessor and assign it to a new variable,"
   ]
  },
  {
   "cell_type": "code",
   "execution_count": null,
   "metadata": {
    "id": "hF6tbdIixP5Q"
   },
   "outputs": [],
   "source": [
    "events = sb.events(match_id = match_id)"
   ]
  },
  {
   "cell_type": "markdown",
   "metadata": {
    "id": "J9oToUIHxWBS"
   },
   "source": [
    "Similar to the `sb.matches` method, we use `sb.events` to access all of the events in a particular match, specified by a certain match id. In this example, we are feeding it the `match_id` that corresponds to the FIFA World Cup Final match in 2022 between Argentina and France."
   ]
  }
 ],
 "metadata": {
  "colab": {
   "provenance": [],
   "toc_visible": true
  },
  "kernelspec": {
   "display_name": "Python 3 (ipykernel)",
   "language": "python",
   "name": "python3"
  },
  "language_info": {
   "codemirror_mode": {
    "name": "ipython",
    "version": 3
   },
   "file_extension": ".py",
   "mimetype": "text/x-python",
   "name": "python",
   "nbconvert_exporter": "python",
   "pygments_lexer": "ipython3",
   "version": "3.10.2"
  }
 },
 "nbformat": 4,
 "nbformat_minor": 4
}
