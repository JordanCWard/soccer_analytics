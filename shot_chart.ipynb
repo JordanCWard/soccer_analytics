{
 "cells": [
  {
   "cell_type": "markdown",
   "metadata": {
    "id": "Ynar_bITv0rW"
   },
   "source": [
    "### Packages to Install"
   ]
  },
  {
   "cell_type": "code",
   "execution_count": 1,
   "metadata": {
    "colab": {
     "base_uri": "https://localhost:8080/"
    },
    "id": "z1ChGn6EvtX1",
    "outputId": "1efb85e5-1841-4e47-ae35-c7c1434efcbb"
   },
   "outputs": [],
   "source": [
    "!pip install statsbombpy==1.12 --quiet\n",
    "!pip install mplsoccer==1.2.4 --quiet\n",
    "!pip install kloppy==3.14.0 --quiet\n",
    "!pip install tqdm==4.66.4 --quiet\n",
    "!pip install scikit-learn==1.5.0 --quiet\n",
    "!pip install xgboost==2.0.3 --quiet\n",
    "!pip install bezier===2023.7.28 --quiet"
   ]
  },
  {
   "cell_type": "markdown",
   "metadata": {
    "id": "Dewih6MFS-A9"
   },
   "source": [
    "### Visual Configuration"
   ]
  },
  {
   "cell_type": "code",
   "execution_count": 2,
   "metadata": {
    "id": "yvLGiE6nS5X8"
   },
   "outputs": [],
   "source": [
    "%config InlineBackend.figure_format = 'retina'\n",
    "figsize = (9, 6)"
   ]
  },
  {
   "cell_type": "markdown",
   "metadata": {
    "id": "ZLEViw6Xv6zb"
   },
   "source": [
    "## Imports"
   ]
  },
  {
   "cell_type": "code",
   "execution_count": 3,
   "metadata": {
    "id": "PDBK058Qv3-s"
   },
   "outputs": [],
   "source": [
    "from statsbombpy import sb\n",
    "import mplsoccer as mpl\n",
    "from kloppy import metrica"
   ]
  },
  {
   "cell_type": "code",
   "execution_count": 4,
   "metadata": {
    "id": "bhvkF49CwJhX"
   },
   "outputs": [],
   "source": [
    "import numpy as np\n",
    "import pandas as pd\n",
    "import matplotlib.pyplot as plt"
   ]
  },
  {
   "cell_type": "code",
   "execution_count": 5,
   "metadata": {
    "id": "iNzT9bXWwNRl"
   },
   "outputs": [],
   "source": [
    "from tqdm import tqdm"
   ]
  },
  {
   "cell_type": "markdown",
   "metadata": {
    "id": "sN2QhN4JqueS"
   },
   "source": [
    "## Colors"
   ]
  },
  {
   "cell_type": "code",
   "execution_count": 6,
   "metadata": {
    "id": "-Bs0-t2Hqzuh"
   },
   "outputs": [],
   "source": [
    "from matplotlib.colors import ListedColormap\n",
    "def bulid_cmap(x, y):\n",
    "    r,g,b = x\n",
    "    r_, g_, b_ = y\n",
    "    N = 256\n",
    "    A = np.ones((N, 4))\n",
    "    A[:, 0] = np.linspace(r, 1, N)\n",
    "    A[:, 1] = np.linspace(g, 1, N)\n",
    "    A[:, 2] = np.linspace(b, 1, N)\n",
    "    cmp = ListedColormap(A)\n",
    "    \n",
    "    B = np.ones((N, 4))\n",
    "    B[:, 0] = np.linspace(r_, 1, N)\n",
    "    B[:, 1] = np.linspace(g_, 1, N)\n",
    "    B[:, 2] = np.linspace(b_, 1, N)\n",
    "    cmp_ = ListedColormap(B)\n",
    "    \n",
    "    newcolors = np.vstack((cmp(np.linspace(0, 1, 128)),\n",
    "                            cmp_(np.linspace(1, 0, 128))))\n",
    "    return ListedColormap(newcolors)"
   ]
  },
  {
   "cell_type": "code",
   "execution_count": 7,
   "metadata": {
    "id": "uG6PZ_rjqDQ0"
   },
   "outputs": [],
   "source": [
    "blue, red = (44,123,182), (215,25,28)\n",
    "blue = [x/256 for x in blue]\n",
    "red = [x/256 for x in red]\n",
    "diverging = bulid_cmap(blue, red)\n",
    "diverging_r = bulid_cmap(red, blue)"
   ]
  },
  {
   "cell_type": "markdown",
   "metadata": {
    "id": "r9ku6DfUz89b"
   },
   "source": [
    "### Prepare the Data"
   ]
  },
  {
   "cell_type": "code",
   "execution_count": 8,
   "metadata": {
    "id": "kR6jy-bMw3Ih"
   },
   "outputs": [],
   "source": [
    "matches = sb.matches(competition_id=43, season_id=106)"
   ]
  },
  {
   "cell_type": "markdown",
   "metadata": {
    "id": "VmS_FA17w6I_"
   },
   "source": [
    "Call the `matches` method from the `sb` module. The method queries the Statsbomb API to access all of the matches that have a certain competition and season ID. The arguments provided here will access all matches in the 2022 FIFA World Cup.\n",
    "\n",
    "> Notice: you might see a `NoAuthWarning`. This is because you're acessing the StatsBomb open data. If you have a subscription, you can actually pass credentials to these module functions and access your own data. You can quiet these warnings in python if they are annoying."
   ]
  },
  {
   "cell_type": "code",
   "execution_count": 9,
   "metadata": {
    "colab": {
     "base_uri": "https://localhost:8080/",
     "height": 341
    },
    "id": "wqNsLNGOxCpR",
    "outputId": "7ebb208c-c1ff-4b52-b2de-6cde15ab3710"
   },
   "outputs": [
    {
     "data": {
      "text/html": [
       "<div>\n",
       "<style scoped>\n",
       "    .dataframe tbody tr th:only-of-type {\n",
       "        vertical-align: middle;\n",
       "    }\n",
       "\n",
       "    .dataframe tbody tr th {\n",
       "        vertical-align: top;\n",
       "    }\n",
       "\n",
       "    .dataframe thead th {\n",
       "        text-align: right;\n",
       "    }\n",
       "</style>\n",
       "<table border=\"1\" class=\"dataframe\">\n",
       "  <thead>\n",
       "    <tr style=\"text-align: right;\">\n",
       "      <th></th>\n",
       "      <th>match_id</th>\n",
       "      <th>match_date</th>\n",
       "      <th>kick_off</th>\n",
       "      <th>competition</th>\n",
       "      <th>season</th>\n",
       "      <th>home_team</th>\n",
       "      <th>away_team</th>\n",
       "      <th>home_score</th>\n",
       "      <th>away_score</th>\n",
       "      <th>match_status</th>\n",
       "      <th>...</th>\n",
       "      <th>last_updated_360</th>\n",
       "      <th>match_week</th>\n",
       "      <th>competition_stage</th>\n",
       "      <th>stadium</th>\n",
       "      <th>referee</th>\n",
       "      <th>home_managers</th>\n",
       "      <th>away_managers</th>\n",
       "      <th>data_version</th>\n",
       "      <th>shot_fidelity_version</th>\n",
       "      <th>xy_fidelity_version</th>\n",
       "    </tr>\n",
       "  </thead>\n",
       "  <tbody>\n",
       "    <tr>\n",
       "      <th>0</th>\n",
       "      <td>3857256</td>\n",
       "      <td>2022-12-02</td>\n",
       "      <td>21:00:00.000</td>\n",
       "      <td>International - FIFA World Cup</td>\n",
       "      <td>2022</td>\n",
       "      <td>Serbia</td>\n",
       "      <td>Switzerland</td>\n",
       "      <td>2</td>\n",
       "      <td>3</td>\n",
       "      <td>available</td>\n",
       "      <td>...</td>\n",
       "      <td>2023-04-26T23:49:58.956186</td>\n",
       "      <td>3</td>\n",
       "      <td>Group Stage</td>\n",
       "      <td>Stadium 974</td>\n",
       "      <td>Fernando Andrés Rapallini</td>\n",
       "      <td>Dragan Stojković</td>\n",
       "      <td>Murat Yakin</td>\n",
       "      <td>1.1.0</td>\n",
       "      <td>2</td>\n",
       "      <td>2</td>\n",
       "    </tr>\n",
       "    <tr>\n",
       "      <th>1</th>\n",
       "      <td>3869151</td>\n",
       "      <td>2022-12-03</td>\n",
       "      <td>21:00:00.000</td>\n",
       "      <td>International - FIFA World Cup</td>\n",
       "      <td>2022</td>\n",
       "      <td>Argentina</td>\n",
       "      <td>Australia</td>\n",
       "      <td>2</td>\n",
       "      <td>1</td>\n",
       "      <td>available</td>\n",
       "      <td>...</td>\n",
       "      <td>2023-07-30T07:48:51.865595</td>\n",
       "      <td>4</td>\n",
       "      <td>Round of 16</td>\n",
       "      <td>Ahmad bin Ali Stadium</td>\n",
       "      <td>Szymon Marciniak</td>\n",
       "      <td>Lionel Sebastián Scaloni</td>\n",
       "      <td>Graham James Arnold</td>\n",
       "      <td>1.1.0</td>\n",
       "      <td>2</td>\n",
       "      <td>2</td>\n",
       "    </tr>\n",
       "    <tr>\n",
       "      <th>2</th>\n",
       "      <td>3857257</td>\n",
       "      <td>2022-11-30</td>\n",
       "      <td>17:00:00.000</td>\n",
       "      <td>International - FIFA World Cup</td>\n",
       "      <td>2022</td>\n",
       "      <td>Australia</td>\n",
       "      <td>Denmark</td>\n",
       "      <td>1</td>\n",
       "      <td>0</td>\n",
       "      <td>available</td>\n",
       "      <td>...</td>\n",
       "      <td>2023-06-20T11:04:37.638969</td>\n",
       "      <td>3</td>\n",
       "      <td>Group Stage</td>\n",
       "      <td>Al Janoub Stadium</td>\n",
       "      <td>Mustapha Ghorbal</td>\n",
       "      <td>Graham James Arnold</td>\n",
       "      <td>Kasper Hjulmand</td>\n",
       "      <td>1.1.0</td>\n",
       "      <td>2</td>\n",
       "      <td>2</td>\n",
       "    </tr>\n",
       "  </tbody>\n",
       "</table>\n",
       "<p>3 rows × 22 columns</p>\n",
       "</div>"
      ],
      "text/plain": [
       "   match_id  match_date      kick_off                     competition season  \\\n",
       "0   3857256  2022-12-02  21:00:00.000  International - FIFA World Cup   2022   \n",
       "1   3869151  2022-12-03  21:00:00.000  International - FIFA World Cup   2022   \n",
       "2   3857257  2022-11-30  17:00:00.000  International - FIFA World Cup   2022   \n",
       "\n",
       "   home_team    away_team  home_score  away_score match_status  ...  \\\n",
       "0     Serbia  Switzerland           2           3    available  ...   \n",
       "1  Argentina    Australia           2           1    available  ...   \n",
       "2  Australia      Denmark           1           0    available  ...   \n",
       "\n",
       "             last_updated_360 match_week competition_stage  \\\n",
       "0  2023-04-26T23:49:58.956186          3       Group Stage   \n",
       "1  2023-07-30T07:48:51.865595          4       Round of 16   \n",
       "2  2023-06-20T11:04:37.638969          3       Group Stage   \n",
       "\n",
       "                 stadium                    referee             home_managers  \\\n",
       "0            Stadium 974  Fernando Andrés Rapallini          Dragan Stojković   \n",
       "1  Ahmad bin Ali Stadium           Szymon Marciniak  Lionel Sebastián Scaloni   \n",
       "2   Al Janoub Stadium              Mustapha Ghorbal       Graham James Arnold   \n",
       "\n",
       "         away_managers data_version shot_fidelity_version xy_fidelity_version  \n",
       "0          Murat Yakin        1.1.0                     2                   2  \n",
       "1  Graham James Arnold        1.1.0                     2                   2  \n",
       "2      Kasper Hjulmand        1.1.0                     2                   2  \n",
       "\n",
       "[3 rows x 22 columns]"
      ]
     },
     "execution_count": 9,
     "metadata": {},
     "output_type": "execute_result"
    }
   ],
   "source": [
    "matches.head(3)"
   ]
  },
  {
   "cell_type": "markdown",
   "metadata": {
    "id": "dVTYV4xAxGlz"
   },
   "source": [
    "The matches method returns a Pandas DataFrame object, which you can visualize in various ways including calling the `head` method which takes an argument of the total number of rows that you would like to see."
   ]
  },
  {
   "cell_type": "code",
   "execution_count": 10,
   "metadata": {
    "id": "bLu7_cmGxIV7"
   },
   "outputs": [],
   "source": [
    "final = matches[matches['competition_stage'] == \"Final\"].iloc[0]"
   ]
  },
  {
   "cell_type": "markdown",
   "metadata": {
    "id": "hLReDc7hxMli"
   },
   "source": [
    "We filter this DataFrame to return a new DataFrame that only contains rows where the value of the `competition_stage` column is equal to `Final`. \n",
    "\n",
    "The expression `matches['competition_stage'] == \"Final\"` creates a boolean mask with `True` values where the condition is met. This mask is then used to index the original DataFrame resulting in a new DataFrame that contains only the rows where the condition is met.\n",
    "\n",
    "Of course, there is only one World Cup Final match, so we grab the 0th row using the `.iloc` accessor and assign it to a new variable named `final`. At this point, `final` is a Pandas Series object."
   ]
  },
  {
   "cell_type": "code",
   "execution_count": 11,
   "metadata": {
    "id": "gsGrwn2exNzt"
   },
   "outputs": [],
   "source": [
    "match_id = final.loc['match_id']"
   ]
  },
  {
   "cell_type": "markdown",
   "metadata": {
    "id": "uL11qU08xRK8"
   },
   "source": [
    "We select the `match_id` column from the `final` object usng the `.loc` accessor and assign it to a new variable,"
   ]
  },
  {
   "cell_type": "code",
   "execution_count": 12,
   "metadata": {
    "id": "hF6tbdIixP5Q"
   },
   "outputs": [],
   "source": [
    "events = sb.events(match_id = match_id)"
   ]
  },
  {
   "cell_type": "markdown",
   "metadata": {
    "id": "J9oToUIHxWBS"
   },
   "source": [
    "Similar to the `sb.matches` method, we use `sb.events` to access all of the events in a particular match, specified by a certain match id. In this example, we are feeding it the `match_id` that corresponds to the FIFA World Cup Final match in 2022 between Argentina and France."
   ]
  },
  {
   "cell_type": "markdown",
   "metadata": {
    "id": "jnUH7adI0SjT"
   },
   "source": [
    "### Shot Chart"
   ]
  },
  {
   "cell_type": "code",
   "execution_count": 13,
   "metadata": {
    "id": "xKIvw3H90Vtj"
   },
   "outputs": [],
   "source": [
    "shots = events[(events['type'] == \"Shot\") & \n",
    "               (events['team'] == \"Argentina\") &\n",
    "               (events['shot_type'] != \"Penalty\")]"
   ]
  },
  {
   "cell_type": "markdown",
   "metadata": {
    "id": "H-gMkYPxLjUm"
   },
   "source": [
    "Similar to how we filtered the event DataFrame for Messi's passes, you can easily filter for Argentinian shots that were not penalties."
   ]
  },
  {
   "cell_type": "code",
   "execution_count": 14,
   "metadata": {
    "id": "rZ9xhaHL0brB"
   },
   "outputs": [],
   "source": [
    "x, y = np.array(shots['location'].tolist()).T\n",
    "xg = np.array(shots['shot_statsbomb_xg'].tolist())\n",
    "goal = [red if g == \"Goal\" else 'black' for g in shots['shot_outcome'].to_list()]"
   ]
  },
  {
   "cell_type": "markdown",
   "metadata": {
    "id": "EnVeKeYYLv_s"
   },
   "source": [
    "From the filtered dataframe `shots` we grab a couple useful bits of information.\n",
    "\n",
    "First we convert the shot locations to a list and transpose the data so it unpacks into `x` and `y` variables.\n",
    "\n",
    "We grab the Expected Goal values and stick it into the `xg` variable.\n",
    "\n",
    "And finally, we use a list comprehension to iterate through shot outcomes and generate a list that we will use to color our shots. Red if it's a goal, and black if it's not.\n",
    "\n"
   ]
  },
  {
   "cell_type": "code",
   "execution_count": 15,
   "metadata": {
    "colab": {
     "base_uri": "https://localhost:8080/",
     "height": 441
    },
    "id": "9PheD4Y901Pe",
    "outputId": "2d68b683-7fd1-443c-8c19-22e1fa0dffa3"
   },
   "outputs": [
    {
     "data": {
      "image/png": "[encoded data removed]",
      "text/plain": [
       "<Figure size 900x600 with 1 Axes>"
      ]
     },
     "metadata": {
      "image/png": {
       "height": 589,
       "width": 849
      }
     },
     "output_type": "display_data"
    }
   ],
   "source": [
    "pitch = mpl.Pitch()\n",
    "fig, ax = pitch.draw(figsize=figsize)\n",
    "p = pitch.scatter(x, y, s=xg*100, c=goal, alpha=0.8, ax=ax)"
   ]
  },
  {
   "cell_type": "markdown",
   "metadata": {
    "id": "x5co9xrkMUL_"
   },
   "source": [
    "Similar to how we plotted passes in the previous example, we create a new Pitch and feed the various attributes for population. In particular, pay attention to how we set the size (`s`) attribute to the Expected Goal value (plus a scaling factor of 100 for aesthetics) and the color (`c`) attribute to the outcome of each shot."
   ]
  }
 ],
 "metadata": {
  "colab": {
   "provenance": [],
   "toc_visible": true
  },
  "kernelspec": {
   "display_name": "Python 3 (ipykernel)",
   "language": "python",
   "name": "python3"
  },
  "language_info": {
   "codemirror_mode": {
    "name": "ipython",
    "version": 3
   },
   "file_extension": ".py",
   "mimetype": "text/x-python",
   "name": "python",
   "nbconvert_exporter": "python",
   "pygments_lexer": "ipython3",
   "version": "3.10.2"
  }
 },
 "nbformat": 4,
 "nbformat_minor": 4
}
